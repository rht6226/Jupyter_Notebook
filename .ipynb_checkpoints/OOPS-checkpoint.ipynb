{
 "cells": [
  {
   "cell_type": "markdown",
   "metadata": {},
   "source": [
    "# Object oriented python\n",
    "\n",
    "## Dog class example"
   ]
  },
  {
   "cell_type": "code",
   "execution_count": 6,
   "metadata": {},
   "outputs": [],
   "source": [
    "class Dog:\n",
    "    species = 'mammal'\n",
    "    legs = '4'\n",
    "    def __init__(self, name, age, owner):\n",
    "        self.name = name\n",
    "        self.age = age\n",
    "        self.owner = owner\n",
    "    def info(self):\n",
    "        print(\"{0} is a dog of age {1} owned by {2}\".format(self.name, self.age, self.owner))"
   ]
  },
  {
   "cell_type": "code",
   "execution_count": 7,
   "metadata": {},
   "outputs": [
    {
     "name": "stdout",
     "output_type": "stream",
     "text": [
      "Dukie is a dog of age 5 owned by Rohit\n"
     ]
    }
   ],
   "source": [
    "d1 = Dog('Dukie', 5, 'Rohit')\n",
    "d1.info()"
   ]
  },
  {
   "cell_type": "code",
   "execution_count": 8,
   "metadata": {},
   "outputs": [
    {
     "name": "stdout",
     "output_type": "stream",
     "text": [
      "Mikie is a dog of age 6 owned by Rohan\n"
     ]
    }
   ],
   "source": [
    "d2 = Dog('Mikie', 6, 'Rohan')\n",
    "d2.info()"
   ]
  },
  {
   "cell_type": "code",
   "execution_count": 10,
   "metadata": {},
   "outputs": [
    {
     "name": "stdout",
     "output_type": "stream",
     "text": [
      "Rainy is a dog of age 11 owned by Rashi\n"
     ]
    }
   ],
   "source": [
    "d3 = Dog(\"Rainy\", 11, 'Rashi')\n",
    "d3.info()"
   ]
  },
  {
   "cell_type": "code",
   "execution_count": 11,
   "metadata": {},
   "outputs": [
    {
     "name": "stdout",
     "output_type": "stream",
     "text": [
      "The oldest dog is 11 years old\n"
     ]
    }
   ],
   "source": [
    "def maximum_age(a, b, c):\n",
    "    maxi = max(a.age, b.age, c.age)\n",
    "    print(\"The oldest dog is {} years old\".format(maxi))\n",
    "\n",
    "maximum_age(d1, d2, d3)"
   ]
  },
  {
   "cell_type": "markdown",
   "metadata": {},
   "source": [
    "## Email class example"
   ]
  },
  {
   "cell_type": "code",
   "execution_count": 1,
   "metadata": {},
   "outputs": [
    {
     "name": "stdout",
     "output_type": "stream",
     "text": [
      "Enter the Email-Id of the reciever : rht@rohit.com\n",
      "Please Enter the subject of the message : Hello me\n",
      "Now Enter your message : I am not the only traveller who has not repaid his debt. I am waiting for the dream to follow take me back to the night we met.\n",
      "\n",
      "\n",
      "\n",
      "\n",
      "To :- rht@rohit.com\n",
      "From :- rht6226@live.com\n",
      "Date :- 2018-11-12\n",
      "\n",
      "Subject :- \n",
      "Hello me\n",
      "\n",
      "\n",
      "I am not the only traveller who has not repaid his debt. I am waiting for the dream to follow take me back to the night we met.\n",
      "\n",
      "Rohit Raj Anand| ECED Sophomore| MNNIT Allahabad\n",
      "\n",
      " The mail was successfully delivered\n"
     ]
    }
   ],
   "source": [
    "import datetime\n",
    "class Email:\n",
    "    def __init__(self, recipent, subject, message):\n",
    "        self.recipent = recipent\n",
    "        self.subject = subject\n",
    "        self.message = message\n",
    "    \n",
    "    sender = \"rht6226@live.com\"\n",
    "    date = datetime.date.today()\n",
    "    signature = \"Rohit Raj Anand| ECED Sophomore| MNNIT Allahabad\"\n",
    "    is_sent = False\n",
    "    \n",
    "    def send(self):\n",
    "        self.sent = True\n",
    "        \n",
    "    def show_mail(self):\n",
    "        print(\"\\n\\n\\n\\nTo :- \" + self.recipent)\n",
    "        print(\"From :- \" + self.sender)\n",
    "        print(\"Date :- \" + str(self.date))\n",
    "        print(\"\\nSubject :- \\n\" + self.subject)\n",
    "        print(\"\\n\\n\" + self.message)\n",
    "        print(\"\\n\" + self.signature)\n",
    "        \n",
    "def send_mail():\n",
    "    to = input(\"Enter the Email-Id of the reciever : \")\n",
    "    sub = input(\"Please Enter the subject of the message : \")\n",
    "    message = input(\"Now Enter your message : \")\n",
    "    \n",
    "    email = Email(to, sub, message)\n",
    "    \n",
    "    email.send()\n",
    "    \n",
    "    email.show_mail()\n",
    "    \n",
    "    if email.sent:\n",
    "        print(\"\\n The mail was successfully delivered\")\n",
    "    else:\n",
    "        print(\"There was a problem delivering the mail\")\n",
    "\n",
    "send_mail()"
   ]
  },
  {
   "cell_type": "code",
   "execution_count": null,
   "metadata": {},
   "outputs": [],
   "source": []
  }
 ],
 "metadata": {
  "kernelspec": {
   "display_name": "Python 3",
   "language": "python",
   "name": "python3"
  },
  "language_info": {
   "codemirror_mode": {
    "name": "ipython",
    "version": 3
   },
   "file_extension": ".py",
   "mimetype": "text/x-python",
   "name": "python",
   "nbconvert_exporter": "python",
   "pygments_lexer": "ipython3",
   "version": "3.7.0"
  }
 },
 "nbformat": 4,
 "nbformat_minor": 2
}
