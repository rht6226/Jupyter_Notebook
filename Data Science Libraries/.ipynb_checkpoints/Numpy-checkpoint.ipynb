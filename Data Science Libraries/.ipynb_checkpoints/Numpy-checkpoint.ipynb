{
 "cells": [
  {
   "cell_type": "markdown",
   "metadata": {},
   "source": [
    "# Numpy Cheatsheet"
   ]
  },
  {
   "cell_type": "markdown",
   "metadata": {},
   "source": [
    "\n",
    "- **NumPy is a linear algebra library in python.**\n",
    "- **It is very fast and has bindings to C libraries.**\n",
    "- **It is used to create arrays in python.**\n",
    "- **NumPy arrays can be 1-D vectors or multidimensional Matrices**\n",
    "\n",
    "\n",
    "## 1. numpy.array() method\n",
    "\n",
    "one dimensional arrays are very easy to create all wew have to do is pass in a list of 1 dimension as an argument to the array() method"
   ]
  },
  {
   "cell_type": "code",
   "execution_count": 2,
   "metadata": {},
   "outputs": [
    {
     "data": {
      "text/plain": [
       "array([  1,  56,  77,  34, 887, 234, 674])"
      ]
     },
     "execution_count": 2,
     "metadata": {},
     "output_type": "execute_result"
    }
   ],
   "source": [
    "# Importing NumPy\n",
    "import numpy as np\n",
    "\n",
    "# create a list of your choice\n",
    "my_list = [1,56,77,34,887,234,674]\n",
    "\n",
    "# pass the created list to the array() function as an argumrnt and it will create an array out of the given list.\n",
    "my_arr = np.array(my_list)\n",
    "\n",
    "my_arr"
   ]
  },
  {
   "cell_type": "markdown",
   "metadata": {},
   "source": [
    "For creating a 2-D array we have to create a **2-D list** and then we will pass this list as an argument to the array() method.\n",
    "Similarly, for creating a **n-d array** we have to create a **n-d list** and pass it in as an argument."
   ]
  },
  {
   "cell_type": "code",
   "execution_count": 3,
   "metadata": {},
   "outputs": [
    {
     "data": {
      "text/plain": [
       "array([[ 1,  3,  4,  6],\n",
       "       [ 5,  7,  9, 11],\n",
       "       [ 4,  5,  7,  9]])"
      ]
     },
     "execution_count": 3,
     "metadata": {},
     "output_type": "execute_result"
    }
   ],
   "source": [
    "# create a 2-d list\n",
    "D2_list = [[1,3,4,6],\n",
    "          [5,7,9,11],\n",
    "          [4,5,7,9]]\n",
    "\n",
    "# create a 2-d array from the above list\n",
    "D2_array = np.array(D2_list)\n",
    "\n",
    "D2_array"
   ]
  },
  {
   "cell_type": "code",
   "execution_count": 4,
   "metadata": {},
   "outputs": [
    {
     "data": {
      "text/plain": [
       "array([[[1, 3, 5],\n",
       "        [1, 4, 7],\n",
       "        [1, 5, 6]],\n",
       "\n",
       "       [[1, 4, 9],\n",
       "        [1, 7, 5],\n",
       "        [2, 6, 9]]])"
      ]
     },
     "execution_count": 4,
     "metadata": {},
     "output_type": "execute_result"
    }
   ],
   "source": [
    "# create a 3-d list\n",
    "D3_list = [[[1,3,5],\n",
    "           [1,4,7],\n",
    "           [1,5,6]],\n",
    "           [[1,4,9],\n",
    "           [1,7,5],\n",
    "           [2,6,9]]]\n",
    "\n",
    "# create a 3-d array\n",
    "D3_array = np.array(D3_list)\n",
    "\n",
    "D3_array"
   ]
  },
  {
   "cell_type": "markdown",
   "metadata": {},
   "source": [
    "**If we try to create an array from a list containing mixed datatypes it creates the array most convinient to it**\n",
    "\n",
    "**Example** - When asked to create an array from a list containing  **int64** and **str** and **boolean** data types. it created an array of **str** type"
   ]
  },
  {
   "cell_type": "code",
   "execution_count": 5,
   "metadata": {},
   "outputs": [
    {
     "name": "stdout",
     "output_type": "stream",
     "text": [
      "created array = ['1' '4' '6' '7' 'a' '9' 'Rohit' 'True']\n",
      "Data type of created array = str672\n"
     ]
    }
   ],
   "source": [
    "# list containig int and str and bool\n",
    "li = [1,4,6,7,'a',9, 'Rohit', True]\n",
    "\n",
    "# creation of array from the above list\n",
    "arr_2 = np.array(li)\n",
    "\n",
    "print('created array = ' + str(arr_2))\n",
    "\n",
    "# data type of the created array\n",
    "dtype = arr_2.dtype\n",
    "print('Data type of created array = ' + str(dtype.name))"
   ]
  },
  {
   "cell_type": "markdown",
   "metadata": {},
   "source": [
    "## 2. numpy.arange() method\n",
    "\n",
    "This function is like python's **range()**. It takes three arguments a **start**, a **stop** and a **step**. Then it creates a **One-dimensional** array which contains the numbers belonging to **[start, stop]** set. Here the created array will include the starting number but it will skip away the **stop** number.\n",
    "\n",
    "The third argument **step** is optional. If we provide step as 2 then the array will skip one number and jump to the second number int the **range(start, stop)**. The value of **step** by default is **1**."
   ]
  },
  {
   "cell_type": "code",
   "execution_count": 6,
   "metadata": {},
   "outputs": [
    {
     "data": {
      "text/plain": [
       "array([ 1,  2,  3,  4,  5,  6,  7,  8,  9, 10, 11, 12, 13, 14])"
      ]
     },
     "execution_count": 6,
     "metadata": {},
     "output_type": "execute_result"
    }
   ],
   "source": [
    "# creating an array using arange()\n",
    "array = np.arange(1,15)\n",
    "\n",
    "array"
   ]
  },
  {
   "cell_type": "code",
   "execution_count": 7,
   "metadata": {},
   "outputs": [
    {
     "data": {
      "text/plain": [
       "array([ 1,  6, 11, 16, 21, 26, 31, 36, 41, 46, 51, 56, 61, 66, 71, 76, 81,\n",
       "       86, 91, 96])"
      ]
     },
     "execution_count": 7,
     "metadata": {},
     "output_type": "execute_result"
    }
   ],
   "source": [
    "# creating an array with steps\n",
    "array = np.arange(1,100,5)\n",
    "\n",
    "array"
   ]
  },
  {
   "cell_type": "markdown",
   "metadata": {},
   "source": [
    "## 3. numpy.zeros()\n",
    "\n",
    "This function is used to create an 1-D array or multidimensional Matrices whose all elements are zero.\n",
    "\n",
    "**For Example** - \n",
    "- For creating a zero 1-D array of size n we will use : `np.zeros(n)`\n",
    "- For creating a zero matrix of size = (m x n) we will pass the tuple **(m , n)** to the method : `np.zeros((m, n))`"
   ]
  },
  {
   "cell_type": "code",
   "execution_count": 8,
   "metadata": {},
   "outputs": [
    {
     "data": {
      "text/plain": [
       "array([0., 0., 0., 0., 0., 0., 0., 0., 0., 0., 0., 0., 0., 0., 0.])"
      ]
     },
     "execution_count": 8,
     "metadata": {},
     "output_type": "execute_result"
    }
   ],
   "source": [
    "# one-dimensional zero-array of size 15\n",
    "zero_array = np.zeros(15)\n",
    "\n",
    "zero_array"
   ]
  },
  {
   "cell_type": "code",
   "execution_count": 9,
   "metadata": {},
   "outputs": [
    {
     "data": {
      "text/plain": [
       "array([[0., 0., 0., 0., 0.],\n",
       "       [0., 0., 0., 0., 0.],\n",
       "       [0., 0., 0., 0., 0.],\n",
       "       [0., 0., 0., 0., 0.]])"
      ]
     },
     "execution_count": 9,
     "metadata": {},
     "output_type": "execute_result"
    }
   ],
   "source": [
    "# zero matrix of size (4*5)\n",
    "zero_mat = np.zeros((4, 5))\n",
    "\n",
    "zero_mat"
   ]
  },
  {
   "cell_type": "markdown",
   "metadata": {},
   "source": [
    "## 4. numpy.ones()\n",
    "\n",
    "This function is used to create an 1-D array or multidimensional Matrices whose all elements are **1**.\n",
    "\n",
    "**For Example** - \n",
    "- For creating an 1-D array of ones of size n we will use : `np.ones(n)`\n",
    "- For creating a matrix of ones of dimensions = (m x n) we will pass the tuple **(m , n)** to the method : `np.ones((m, n))`"
   ]
  },
  {
   "cell_type": "code",
   "execution_count": 10,
   "metadata": {},
   "outputs": [
    {
     "data": {
      "text/plain": [
       "array([1., 1., 1., 1., 1., 1., 1., 1., 1., 1., 1., 1., 1., 1., 1.])"
      ]
     },
     "execution_count": 10,
     "metadata": {},
     "output_type": "execute_result"
    }
   ],
   "source": [
    "# one -dimensional array of ones with size = 15\n",
    "ones_arr = np.ones(15)\n",
    "\n",
    "ones_arr"
   ]
  },
  {
   "cell_type": "code",
   "execution_count": 11,
   "metadata": {},
   "outputs": [
    {
     "data": {
      "text/plain": [
       "array([[1., 1., 1., 1., 1.],\n",
       "       [1., 1., 1., 1., 1.],\n",
       "       [1., 1., 1., 1., 1.],\n",
       "       [1., 1., 1., 1., 1.],\n",
       "       [1., 1., 1., 1., 1.]])"
      ]
     },
     "execution_count": 11,
     "metadata": {},
     "output_type": "execute_result"
    }
   ],
   "source": [
    "# Matrix of ones of size (5*5)\n",
    "size = (5,5)\n",
    "ones_mat = np.ones(size)\n",
    "\n",
    "ones_mat"
   ]
  },
  {
   "cell_type": "markdown",
   "metadata": {},
   "source": [
    "# 5. numpy.linspace()\n",
    "\n",
    "This function takes three arguments - *start*, *stop*, and *number of items*, say n. It then creates an array of n evenly spaced numbers in range *[start, stop]*\n",
    "\n",
    "**For Example** - `numpy.linspace(2,10,5)` will create a one dimensional array containing 5 evenly spaced numbers from 2 to 10."
   ]
  },
  {
   "cell_type": "code",
   "execution_count": 13,
   "metadata": {},
   "outputs": [
    {
     "data": {
      "text/plain": [
       "array([ 2.,  4.,  6.,  8., 10.])"
      ]
     },
     "execution_count": 13,
     "metadata": {},
     "output_type": "execute_result"
    }
   ],
   "source": [
    "# Use of linspace\n",
    "new_arr = np.linspace(2, 10, 5)\n",
    "\n",
    "new_arr"
   ]
  },
  {
   "cell_type": "markdown",
   "metadata": {},
   "source": [
    "## 6. numpy.eye()\n",
    "\n",
    "This function takes in a single integral input and then creates an **identity matrix** of that order."
   ]
  },
  {
   "cell_type": "code",
   "execution_count": 14,
   "metadata": {},
   "outputs": [
    {
     "data": {
      "text/plain": [
       "array([[1., 0., 0., 0.],\n",
       "       [0., 1., 0., 0.],\n",
       "       [0., 0., 1., 0.],\n",
       "       [0., 0., 0., 1.]])"
      ]
     },
     "execution_count": 14,
     "metadata": {},
     "output_type": "execute_result"
    }
   ],
   "source": [
    "# Identity matrix of order 4\n",
    "I = np.eye(4)\n",
    "\n",
    "I"
   ]
  },
  {
   "cell_type": "code",
   "execution_count": null,
   "metadata": {},
   "outputs": [],
   "source": []
  }
 ],
 "metadata": {
  "kernelspec": {
   "display_name": "Python 3",
   "language": "python",
   "name": "python3"
  },
  "language_info": {
   "codemirror_mode": {
    "name": "ipython",
    "version": 3
   },
   "file_extension": ".py",
   "mimetype": "text/x-python",
   "name": "python",
   "nbconvert_exporter": "python",
   "pygments_lexer": "ipython3",
   "version": "3.7.0"
  }
 },
 "nbformat": 4,
 "nbformat_minor": 2
}
